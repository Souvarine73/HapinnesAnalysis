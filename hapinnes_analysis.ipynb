{
 "cells": [
  {
   "cell_type": "code",
   "execution_count": 1,
   "metadata": {},
   "outputs": [],
   "source": [
    "# Imports\n",
    "\n",
    "from pyspark.sql import SparkSession\n",
    "from pyspark.sql import functions as F\n",
    "from pyspark.sql import Window"
   ]
  },
  {
   "cell_type": "code",
   "execution_count": 2,
   "metadata": {},
   "outputs": [],
   "source": [
    "# Creamos la sesion de spark\n",
    "\n",
    "spark = SparkSession.builder\\\n",
    "        .appName(\"miSesion\")\\\n",
    "        .config(\"spark.sql.shuffle.partitions\", \"5\")\\\n",
    "        .getOrCreate()"
   ]
  },
  {
   "cell_type": "code",
   "execution_count": 14,
   "metadata": {},
   "outputs": [
    {
     "name": "stdout",
     "output_type": "stream",
     "text": [
      "+------------+------------------+------------+------------------------------+------------+------------+---------------------+--------------+-----------------------+----------------------------+----------+-------------------------+------------------------+--------------------------------+----------------------------+-------------------------------------+------------------------------------------+------------------------+---------------------------------------+-------------------+\n",
      "|Country name|Regional indicator|Ladder score|Standard error of ladder score|upperwhisker|lowerwhisker|Logged GDP per capita|Social support|Healthy life expectancy|Freedom to make life choices|Generosity|Perceptions of corruption|Ladder score in Dystopia|Explained by: Log GDP per capita|Explained by: Social support|Explained by: Healthy life expectancy|Explained by: Freedom to make life choices|Explained by: Generosity|Explained by: Perceptions of corruption|Dystopia + residual|\n",
      "+------------+------------------+------------+------------------------------+------------+------------+---------------------+--------------+-----------------------+----------------------------+----------+-------------------------+------------------------+--------------------------------+----------------------------+-------------------------------------+------------------------------------------+------------------------+---------------------------------------+-------------------+\n",
      "|     Finland|    Western Europe|       7.842|                         0.032|       7.904|        7.78|               10.775|         0.954|                   72.0|                       0.949|    -0.098|                    0.186|                    2.43|                           1.446|                       1.106|                                0.741|                                     0.691|                   0.124|                                  0.481|              3.253|\n",
      "|     Denmark|    Western Europe|        7.62|                         0.035|       7.687|       7.552|               10.933|         0.954|                   72.7|                       0.946|      0.03|                    0.179|                    2.43|                           1.502|                       1.108|                                0.763|                                     0.686|                   0.208|                                  0.485|              2.868|\n",
      "| Switzerland|    Western Europe|       7.571|                         0.036|       7.643|         7.5|               11.117|         0.942|                   74.4|                       0.919|     0.025|                    0.292|                    2.43|                           1.566|                       1.079|                                0.816|                                     0.653|                   0.204|                                  0.413|              2.839|\n",
      "|     Iceland|    Western Europe|       7.554|                         0.059|        7.67|       7.438|               10.878|         0.983|                   73.0|                       0.955|      0.16|                    0.673|                    2.43|                           1.482|                       1.172|                                0.772|                                     0.698|                   0.293|                                   0.17|              2.967|\n",
      "| Netherlands|    Western Europe|       7.464|                         0.027|       7.518|        7.41|               10.932|         0.942|                   72.4|                       0.913|     0.175|                    0.338|                    2.43|                           1.501|                       1.079|                                0.753|                                     0.647|                   0.302|                                  0.384|              2.798|\n",
      "+------------+------------------+------------+------------------------------+------------+------------+---------------------+--------------+-----------------------+----------------------------+----------+-------------------------+------------------------+--------------------------------+----------------------------+-------------------------------------+------------------------------------------+------------------------+---------------------------------------+-------------------+\n",
      "only showing top 5 rows\n",
      "\n",
      "root\n",
      " |-- Country name: string (nullable = true)\n",
      " |-- Regional indicator: string (nullable = true)\n",
      " |-- Ladder score: double (nullable = true)\n",
      " |-- Standard error of ladder score: double (nullable = true)\n",
      " |-- upperwhisker: double (nullable = true)\n",
      " |-- lowerwhisker: double (nullable = true)\n",
      " |-- Logged GDP per capita: double (nullable = true)\n",
      " |-- Social support: double (nullable = true)\n",
      " |-- Healthy life expectancy: double (nullable = true)\n",
      " |-- Freedom to make life choices: double (nullable = true)\n",
      " |-- Generosity: double (nullable = true)\n",
      " |-- Perceptions of corruption: double (nullable = true)\n",
      " |-- Ladder score in Dystopia: double (nullable = true)\n",
      " |-- Explained by: Log GDP per capita: double (nullable = true)\n",
      " |-- Explained by: Social support: double (nullable = true)\n",
      " |-- Explained by: Healthy life expectancy: double (nullable = true)\n",
      " |-- Explained by: Freedom to make life choices: double (nullable = true)\n",
      " |-- Explained by: Generosity: double (nullable = true)\n",
      " |-- Explained by: Perceptions of corruption: double (nullable = true)\n",
      " |-- Dystopia + residual: double (nullable = true)\n",
      "\n"
     ]
    }
   ],
   "source": [
    "# Leemos el dataframe de 2021\n",
    "\n",
    "df_2021 = spark.read.csv(\"datasets\\world-happiness-report-2021.csv\", header=True, inferSchema=True)\n",
    "df_2021.show(5)\n",
    "df_2021.printSchema()"
   ]
  },
  {
   "cell_type": "code",
   "execution_count": 3,
   "metadata": {},
   "outputs": [
    {
     "name": "stdout",
     "output_type": "stream",
     "text": [
      "+------------+----+-----------+------------------+--------------+--------------------------------+----------------------------+----------+-------------------------+---------------+---------------+\n",
      "|Country name|year|Life Ladder|Log GDP per capita|Social support|Healthy life expectancy at birth|Freedom to make life choices|Generosity|Perceptions of corruption|Positive affect|Negative affect|\n",
      "+------------+----+-----------+------------------+--------------+--------------------------------+----------------------------+----------+-------------------------+---------------+---------------+\n",
      "| Afghanistan|2008|      3.724|              7.37|         0.451|                            50.8|                       0.718|     0.168|                    0.882|          0.518|          0.258|\n",
      "| Afghanistan|2009|      4.402|              7.54|         0.552|                            51.2|                       0.679|      0.19|                     0.85|          0.584|          0.237|\n",
      "| Afghanistan|2010|      4.758|             7.647|         0.539|                            51.6|                         0.6|     0.121|                    0.707|          0.618|          0.275|\n",
      "| Afghanistan|2011|      3.832|              7.62|         0.521|                           51.92|                       0.496|     0.162|                    0.731|          0.611|          0.267|\n",
      "| Afghanistan|2012|      3.783|             7.705|         0.521|                           52.24|                       0.531|     0.236|                    0.776|           0.71|          0.268|\n",
      "+------------+----+-----------+------------------+--------------+--------------------------------+----------------------------+----------+-------------------------+---------------+---------------+\n",
      "only showing top 5 rows\n",
      "\n",
      "root\n",
      " |-- Country name: string (nullable = true)\n",
      " |-- year: integer (nullable = true)\n",
      " |-- Life Ladder: double (nullable = true)\n",
      " |-- Log GDP per capita: double (nullable = true)\n",
      " |-- Social support: double (nullable = true)\n",
      " |-- Healthy life expectancy at birth: double (nullable = true)\n",
      " |-- Freedom to make life choices: double (nullable = true)\n",
      " |-- Generosity: double (nullable = true)\n",
      " |-- Perceptions of corruption: double (nullable = true)\n",
      " |-- Positive affect: double (nullable = true)\n",
      " |-- Negative affect: double (nullable = true)\n",
      "\n"
     ]
    }
   ],
   "source": [
    "# Leemos el dataframe historico\n",
    "\n",
    "df_historic = spark.read.csv(\"datasets\\world-happiness-report.csv\", header=True, inferSchema=True)\n",
    "df_historic.show(5)\n",
    "df_historic.printSchema()"
   ]
  },
  {
   "cell_type": "markdown",
   "metadata": {},
   "source": [
    "## ¿Cual es el la puntuacion com mayor grado de felicidad por region?"
   ]
  },
  {
   "cell_type": "code",
   "execution_count": 8,
   "metadata": {},
   "outputs": [
    {
     "name": "stdout",
     "output_type": "stream",
     "text": [
      "+--------------------+----------------+\n",
      "|  Regional indicator|Max Ladder score|\n",
      "+--------------------+----------------+\n",
      "|      Western Europe|           7.842|\n",
      "|North America and...|           7.277|\n",
      "|Middle East and N...|           7.157|\n",
      "|Latin America and...|           7.069|\n",
      "|Central and Easte...|           6.965|\n",
      "|           East Asia|           6.584|\n",
      "|      Southeast Asia|           6.377|\n",
      "|Commonwealth of I...|           6.179|\n",
      "|  Sub-Saharan Africa|           6.049|\n",
      "|          South Asia|           5.269|\n",
      "+--------------------+----------------+\n",
      "\n"
     ]
    }
   ],
   "source": [
    "df_grouped = df_2021.groupBy(F.col(\"Regional indicator\"))\\\n",
    "                .agg(F.max(F.col(\"Ladder score\")).alias(\"Max Ladder score\"))\\\n",
    "                .orderBy(F.col(\"Max Ladder score\"), ascending=False)\n",
    "\n",
    "df_grouped.show()"
   ]
  },
  {
   "cell_type": "markdown",
   "metadata": {},
   "source": [
    "## ¿Cual es el pais con mayor indice de felicidad?"
   ]
  },
  {
   "cell_type": "code",
   "execution_count": 13,
   "metadata": {},
   "outputs": [
    {
     "name": "stdout",
     "output_type": "stream",
     "text": [
      "Row(Country name='Finland', Regional indicator='Western Europe', Ladder score=7.842)\n"
     ]
    }
   ],
   "source": [
    "df_max = df_2021.orderBy(F.col(\"Ladder score\"), ascending=False)\n",
    "df_max = df_max.select(F.col(\"Country name\"), F.col(\"Regional indicator\"), F.col(\"Ladder score\")).first()\n",
    "print(df_max)"
   ]
  },
  {
   "cell_type": "markdown",
   "metadata": {},
   "source": [
    "## ¿Cuál es el país que más veces ocupó el primer lugar en todos los años?"
   ]
  },
  {
   "cell_type": "code",
   "execution_count": 34,
   "metadata": {},
   "outputs": [
    {
     "name": "stdout",
     "output_type": "stream",
     "text": [
      "+------------+-----+\n",
      "|Country name|count|\n",
      "+------------+-----+\n",
      "|     Denmark|    7|\n",
      "|     Finland|    6|\n",
      "|      Canada|    1|\n",
      "| Switzerland|    1|\n",
      "|      Norway|    1|\n",
      "+------------+-----+\n",
      "\n"
     ]
    }
   ],
   "source": [
    "# Creamos la ventana para agrupar por años\n",
    "window = Window.partitionBy(F.col(\"year\")).orderBy(F.col(\"Life Ladder\").desc())\n",
    "\n",
    "# Creamos el ranking\n",
    "df_ranked = df_historic.withColumn(\"rank\", F.rank().over(window))\n",
    "\n",
    "# Nos quedamos con el primero para cada año\n",
    "df_ranked_1 = df_ranked.filter(F.col(\"rank\") == 1)\n",
    "\n",
    "# Contamos\n",
    "df_rakned_1_count = df_ranked_1.groupBy(F.col(\"Country name\")).count()\n",
    "\n",
    "# Imprimimos dataframe final\n",
    "df_rakned_1_count.orderBy(F.col(\"count\").desc()).show()"
   ]
  },
  {
   "cell_type": "markdown",
   "metadata": {},
   "source": [
    "## ¿Qué puesto de Felicidad por año tiene el país con mayor GDP per capita del 2020?"
   ]
  },
  {
   "cell_type": "code",
   "execution_count": 19,
   "metadata": {},
   "outputs": [
    {
     "name": "stdout",
     "output_type": "stream",
     "text": [
      "+------------+----+-----------+------------------+----+\n",
      "|Country name|year|Life Ladder|Log GDP per capita|rank|\n",
      "+------------+----+-----------+------------------+----+\n",
      "|     Ireland|2006|      7.144|            10.972|   4|\n",
      "|     Ireland|2008|      7.568|            10.929|   1|\n",
      "|     Ireland|2009|      7.046|            10.866|   6|\n",
      "|     Ireland|2010|      7.257|            10.879|   2|\n",
      "|     Ireland|2011|      7.007|            10.878|  10|\n",
      "|     Ireland|2012|      6.965|            10.876|  11|\n",
      "|     Ireland|2013|       6.76|            10.884|  14|\n",
      "|     Ireland|2014|      7.018|            10.959|   9|\n",
      "|     Ireland|2015|       6.83|            11.174|  13|\n",
      "|     Ireland|2016|      7.041|            11.199|   7|\n",
      "|     Ireland|2017|       7.06|            11.266|   5|\n",
      "|     Ireland|2018|      6.962|            11.332|  12|\n",
      "|     Ireland|2019|      7.255|            11.371|   3|\n",
      "|     Ireland|2020|      7.035|            11.323|   8|\n",
      "+------------+----+-----------+------------------+----+\n",
      "\n"
     ]
    }
   ],
   "source": [
    "# Extraemos el pais con mayor GDP del 2020\n",
    "\n",
    "pais_gdp = df_historic.filter(F.col(\"year\") == 2020)\\\n",
    "           .orderBy(F.col(\"Log GDP per capita\"), ascending=False)\\\n",
    "           .first()\n",
    "\n",
    "pais = pais_gdp[\"Country name\"]\n",
    "\n",
    "# Creamos el ranking por año y filtramos por nuestro pais\n",
    "\n",
    "windowCountry = Window.partitionBy(F.col(\"Country name\"))\\\n",
    "                    .orderBy(F.col(\"Life Ladder\").desc())\n",
    "                    \n",
    "\n",
    "target_country = df_historic.withColumn(\"rank\", F.rank().over(windowCountry))\\\n",
    "                            .filter(F.col(\"Country name\") == pais)\\\n",
    "                            .select(F.col(\"Country name\"), F.col(\"year\"), F.col(\"Life Ladder\"), F.col(\"Log GDP per capita\"), F.col(\"rank\"))\\\n",
    "                            .orderBy(F.col(\"year\"), asceding=False).show()"
   ]
  },
  {
   "cell_type": "markdown",
   "metadata": {},
   "source": [
    "¿En que porcentaje ha variado a nivel mundial el GDP promedio del 2020 respecto al 2019 y determinar si aumentó o disminuyó?"
   ]
  },
  {
   "cell_type": "code",
   "execution_count": 32,
   "metadata": {},
   "outputs": [
    {
     "name": "stdout",
     "output_type": "stream",
     "text": [
      "El porcentaje a nivel mundial dee GDP per capita ha variado del 2020 al 2021 en un -0.54%\n"
     ]
    }
   ],
   "source": [
    "# Sacamos GDP promedio para 2020 y 2021\n",
    "\n",
    "def gdp_promedio(year:int) -> float:\n",
    "    num_countries = df_historic.filter(F.col(\"year\") == year).count()\n",
    "    sum_gdp = df_historic.filter(F.col(\"year\") == year)\\\n",
    "                         .agg(F.sum(F.col(\"Log GDP per capita\")))\\\n",
    "                         .collect()[0][0]\n",
    "    return sum_gdp / num_countries\n",
    "\n",
    "gdp_prom_2020 = gdp_promedio(2020)\n",
    "gdp_prom_2019 = gdp_promedio(2019)\n",
    "\n",
    "pct = ((gdp_prom_2020 / gdp_prom_2019) - 1) * 100\n",
    "\n",
    "print(f\"El porcentaje a nivel mundial dee GDP per capita ha variado del 2020 al 2021 en un {round(pct, 2)}%\")"
   ]
  },
  {
   "cell_type": "markdown",
   "metadata": {},
   "source": [
    "¿Cuál es el país con mayor expectativa de vida y qué valor tenía en el año 2019?"
   ]
  }
 ],
 "metadata": {
  "kernelspec": {
   "display_name": "env",
   "language": "python",
   "name": "python3"
  },
  "language_info": {
   "codemirror_mode": {
    "name": "ipython",
    "version": 3
   },
   "file_extension": ".py",
   "mimetype": "text/x-python",
   "name": "python",
   "nbconvert_exporter": "python",
   "pygments_lexer": "ipython3",
   "version": "3.11.2"
  }
 },
 "nbformat": 4,
 "nbformat_minor": 2
}
